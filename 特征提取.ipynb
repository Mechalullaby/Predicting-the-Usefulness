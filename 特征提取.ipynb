{
 "cells": [
  {
   "cell_type": "code",
   "execution_count": 12,
   "metadata": {},
   "outputs": [],
   "source": [
    "#载入需要用到的包\n",
    "import numpy as np \n",
    "import pandas as pd\n",
    "import re\n",
    "import itertools\n",
    "#from LAC import LAC\n",
    "import jieba #分词\n",
    "import jieba.posseg as pseg #词性\n",
    "from collections import Counter"
   ]
  },
  {
   "cell_type": "markdown",
   "metadata": {},
   "source": [
    "# 数据清洗"
   ]
  },
  {
   "cell_type": "code",
   "execution_count": 13,
   "metadata": {},
   "outputs": [],
   "source": [
    "#读取所有数据\n",
    "data = pd.read_excel('京东评论-蓝牙耳机.xlsx')\n",
    "def get_stopwords(stopwords):\n",
    "    with open(stopwords,encoding=\"utf-8\") as f:\n",
    "        stopwords_list=[i.strip() for i in f.readlines()]\n",
    "    return stopwords_list\n",
    "stoplist = get_stopwords(\"stopwords.txt\")#停用词词词典\n"
   ]
  },
  {
   "cell_type": "code",
   "execution_count": 14,
   "metadata": {},
   "outputs": [],
   "source": [
    "#情感词词典\n",
    "sentiment_pos = get_stopwords(\"./情感词典/清华大学李军中文褒贬义词典/tsinghua.positive.gb.txt\")+get_stopwords(\"./情感词典/台湾大学NTUSD简体中文情感词典/ntusd-positive.txt\")\n",
    "sentiment_neg = get_stopwords(\"./情感词典/清华大学李军中文褒贬义词典/tsinghua.negative.gb.txt\")+get_stopwords(\"./情感词典/台湾大学NTUSD简体中文情感词典/ntusd-negative.txt\")\n",
    "sentiment_ben = pd.read_excel('./情感词典/情感词汇本体/情感词汇本体.xlsx')\n",
    "sentiment = sentiment_ben['词语'].values.tolist()+sentiment_pos+sentiment_neg\n",
    "sentiment_pos += sentiment_ben['词语'].loc[sentiment_ben['极性']==1].values.tolist()\n",
    "sentiment_neg += sentiment_ben['词语'].loc[sentiment_ben['极性']==2].values.tolist()\n",
    "sentiment = list(set(sentiment))\n",
    "sentiment_pos = list(set(sentiment_pos))\n",
    "sentiment_neg = list(set(sentiment_neg))"
   ]
  },
  {
   "cell_type": "code",
   "execution_count": 15,
   "metadata": {},
   "outputs": [
    {
     "data": {
      "text/plain": [
       "会员               0\n",
       "级别             692\n",
       "评价星级             0\n",
       "评价内容             0\n",
       "时间               0\n",
       "点赞数              0\n",
       "评论数            100\n",
       "页面标题             0\n",
       "Helpfulness      0\n",
       "dtype: int64"
      ]
     },
     "execution_count": 15,
     "metadata": {},
     "output_type": "execute_result"
    }
   ],
   "source": [
    "data = data.drop(columns=['追评时间','追评内容','商品属性','页面网址','采集时间'])\n",
    "data = data.drop_duplicates()\n",
    "data.dropna(subset=['评价内容'],inplace=True)\n",
    "data.isna().sum()"
   ]
  },
  {
   "cell_type": "code",
   "execution_count": 16,
   "metadata": {},
   "outputs": [
    {
     "name": "stderr",
     "output_type": "stream",
     "text": [
      "F:\\Program Files\\Python3.6.8\\lib\\site-packages\\pandas\\core\\indexing.py:670: SettingWithCopyWarning: \n",
      "A value is trying to be set on a copy of a slice from a DataFrame\n",
      "\n",
      "See the caveats in the documentation: https://pandas.pydata.org/pandas-docs/stable/user_guide/indexing.html#returning-a-view-versus-a-copy\n",
      "  iloc._setitem_with_indexer(indexer, value)\n"
     ]
    }
   ],
   "source": [
    "# split by punctuation\n",
    "pattern = r',|\\.|/|;|\\'|`|\\[|\\]|<|>|\\?|:|\"|\\{|\\}|\\~|!|@|#|\\$|%|\\^|&|\\(|\\)|-|=|\\_|\\+|，|。|、|；|‘|’|【|】|·|！| |…|（|）|：|\\n|•|？'\n",
    "def sub(b):\n",
    "    b = re.split(pattern, b)\n",
    "    return b\n",
    "data['Subse'] = data['评价内容'].apply(sub)\n",
    "# 使用上方法分割子句时，如果存在两个标点重复的情况，会出现空值，因此删去\n",
    "for i in range(len(data)):\n",
    "    a = data['Subse'].iloc[i]\n",
    "    while '' in a:\n",
    "        a.remove('')\n",
    "    data['Subse'].iloc[i] = a"
   ]
  },
  {
   "cell_type": "code",
   "execution_count": 21,
   "metadata": {},
   "outputs": [
    {
     "name": "stdout",
     "output_type": "stream",
     "text": [
      "上午十点下单，下午三点半就到了，快递速度快到离谱。\n",
      "音质还行，然后连接速度一般，电量可以用很久。\n"
     ]
    },
    {
     "data": {
      "text/plain": [
       "['上午十点下单', '下午三点半就到了', '快递速度快到离谱', '音质还行', '然后连接速度一般', '电量可以用很久']"
      ]
     },
     "execution_count": 21,
     "metadata": {},
     "output_type": "execute_result"
    }
   ],
   "source": [
    "# 查看分割效果\n",
    "print(data['评价内容'].iloc[19])\n",
    "data['Subse'].iloc[19]"
   ]
  },
  {
   "cell_type": "code",
   "execution_count": 22,
   "metadata": {},
   "outputs": [
    {
     "name": "stderr",
     "output_type": "stream",
     "text": [
      "Building prefix dict from the default dictionary ...\n",
      "Dumping model to file cache C:\\Users\\DELL\\AppData\\Local\\Temp\\jieba.cache\n",
      "Loading model cost 0.733 seconds.\n",
      "Prefix dict has been built successfully.\n"
     ]
    }
   ],
   "source": [
    "# 评价分词，使用LAC模型，用于提取名词、形容词、动词数量\n",
    "#lac = LAC(mode='lac')\n",
    "#data['评价分词'] = data['评价内容'].apply(lac.run)\n",
    "data['评价分词'] = data['评价内容'].apply(pseg.cut)\n",
    "# jieba分词后返回值难以处理，这里转换成list\n",
    "data['评价分词'] = data['评价分词'].apply(list)\n",
    "for i in range(len(data)):\n",
    "    b = data['评价分词'].iloc[i]\n",
    "    for j in range(len(b)):\n",
    "        b[j] = list(b[j])\n",
    "    b = list(map(list, zip(*b))) #将列表转置，方便后续分析\n",
    "    data['评价分词'].iloc[i] = b"
   ]
  },
  {
   "cell_type": "code",
   "execution_count": 23,
   "metadata": {},
   "outputs": [],
   "source": [
    "# 评论分词，用于构建语料库，文本分析\n",
    "# lac2 = LAC(mode='seg')\n",
    "# data['Segment'] = data['Subse'].apply(lac2.run)\n",
    "# for i in range(len(data)):\n",
    "#     a = data['Segment'].iloc[i]\n",
    "#     a = list(itertools.chain(*a))\n",
    "#     data['Segment'].iloc[i] = a\n",
    "def jiebaba(text):\n",
    "    a = list(jieba.cut(text))\n",
    "    return a\n",
    "data['Segment'] = ''\n",
    "for i in range(len(data)):\n",
    "    a = data['Subse'].iloc[i]\n",
    "    b = []\n",
    "    for str in a:\n",
    "        b.append(jiebaba(str))\n",
    "    b = list(itertools.chain(*b))\n",
    "    data['Segment'].iloc[i] = b"
   ]
  },
  {
   "cell_type": "code",
   "execution_count": 42,
   "metadata": {},
   "outputs": [
    {
     "name": "stdout",
     "output_type": "stream",
     "text": [
      "音质还行  带着入耳式还是有点不舒服\n",
      "['音质', '还', '行', '带', '着', '入耳式', '还是', '有点', '不', '舒服']\n"
     ]
    }
   ],
   "source": [
    "print(data['评价内容'].iloc[24])\n",
    "print(data['Segment'].iloc[24])"
   ]
  },
  {
   "cell_type": "markdown",
   "metadata": {},
   "source": [
    "# 特征提取"
   ]
  },
  {
   "cell_type": "markdown",
   "metadata": {},
   "source": [
    "## Readability"
   ]
  },
  {
   "cell_type": "code",
   "execution_count": 40,
   "metadata": {},
   "outputs": [],
   "source": [
    "# Sub-sentences length\n",
    "data['Subse_Count']=''\n",
    "for i in range(len(data)):\n",
    "    a = data['Subse'].iloc[i]\n",
    "    b = list(range(len(a)))\n",
    "    for j in range(len(a)):\n",
    "        b[j] = len(a[j])\n",
    "    data['Subse_Count'].iloc[i] = b"
   ]
  },
  {
   "cell_type": "code",
   "execution_count": 41,
   "metadata": {},
   "outputs": [],
   "source": [
    "#评论长度大于50个词时，认为有效度一样，因为字数已经足够\n",
    "def length(num):\n",
    "    if num>=50:\n",
    "        num = 50\n",
    "    else:\n",
    "        num = num\n",
    "    return num"
   ]
  },
  {
   "cell_type": "code",
   "execution_count": 42,
   "metadata": {},
   "outputs": [],
   "source": [
    "# number of words in a review\n",
    "data['Words'] = data['Subse_Count'].apply(sum)\n",
    "data['Words'] = data['Words'].apply(length)"
   ]
  },
  {
   "cell_type": "code",
   "execution_count": 43,
   "metadata": {},
   "outputs": [
    {
     "data": {
      "text/plain": [
       "count    1032.000000\n",
       "mean       21.345930\n",
       "std        15.024503\n",
       "min         1.000000\n",
       "25%        10.000000\n",
       "50%        17.000000\n",
       "75%        30.000000\n",
       "max        50.000000\n",
       "Name: Words, dtype: float64"
      ]
     },
     "execution_count": 43,
     "metadata": {},
     "output_type": "execute_result"
    }
   ],
   "source": [
    "pd.to_numeric(data['Words']).describe()"
   ]
  },
  {
   "cell_type": "code",
   "execution_count": 44,
   "metadata": {},
   "outputs": [],
   "source": [
    "# number of sub-sentences\n",
    "data['Nsub'] = data['Subse'].apply(len)"
   ]
  },
  {
   "cell_type": "code",
   "execution_count": 45,
   "metadata": {},
   "outputs": [],
   "source": [
    "# average length of sub-sentences\n",
    "data['Asub'] = data['Subse_Count'].apply(np.mean)"
   ]
  },
  {
   "cell_type": "code",
   "execution_count": 46,
   "metadata": {},
   "outputs": [
    {
     "data": {
      "text/plain": [
       "count    1032.000000\n",
       "mean        1.576550\n",
       "std         1.561526\n",
       "min         0.000000\n",
       "25%         0.000000\n",
       "50%         1.000000\n",
       "75%         2.000000\n",
       "max        11.000000\n",
       "Name: adjectives, dtype: float64"
      ]
     },
     "execution_count": 46,
     "metadata": {},
     "output_type": "execute_result"
    }
   ],
   "source": [
    "# number of adjectives\n",
    "data['adjectives']=''\n",
    "for i in range(len(data)):\n",
    "    a = data['评价分词'].iloc[i]\n",
    "    data['adjectives'].iloc[i] = a[1].count('a')\n",
    "pd.to_numeric(data['adjectives']).describe()"
   ]
  },
  {
   "cell_type": "code",
   "execution_count": 47,
   "metadata": {},
   "outputs": [
    {
     "data": {
      "text/plain": [
       "[['耳机', '还', '不错', '，', '戴', '着', '耳朵', '也', '不疼'],\n",
       " ['n', 'd', 'a', 'x', 'v', 'uz', 'n', 'd', 'a']]"
      ]
     },
     "execution_count": 47,
     "metadata": {},
     "output_type": "execute_result"
    }
   ],
   "source": [
    "data['评价分词'].iloc[150]"
   ]
  },
  {
   "cell_type": "code",
   "execution_count": 48,
   "metadata": {},
   "outputs": [
    {
     "data": {
      "text/plain": [
       "count    1032.000000\n",
       "mean        2.085271\n",
       "std         2.535585\n",
       "min         0.000000\n",
       "25%         0.000000\n",
       "50%         1.000000\n",
       "75%         3.000000\n",
       "max        19.000000\n",
       "Name: adverbs, dtype: float64"
      ]
     },
     "execution_count": 48,
     "metadata": {},
     "output_type": "execute_result"
    }
   ],
   "source": [
    "# number of adverbs\n",
    "data['adverbs']=''\n",
    "for i in range(len(data)):\n",
    "    a = data['评价分词'].iloc[i]\n",
    "    data['adverbs'].iloc[i] = a[1].count('d')\n",
    "pd.to_numeric(data['adverbs']).describe()"
   ]
  },
  {
   "cell_type": "code",
   "execution_count": 49,
   "metadata": {},
   "outputs": [
    {
     "data": {
      "text/plain": [
       "count    1032.000000\n",
       "mean        3.437016\n",
       "std         5.124058\n",
       "min         0.000000\n",
       "25%         1.000000\n",
       "50%         2.000000\n",
       "75%         4.000000\n",
       "max        59.000000\n",
       "Name: verbs, dtype: float64"
      ]
     },
     "execution_count": 49,
     "metadata": {},
     "output_type": "execute_result"
    }
   ],
   "source": [
    "# number of verbs\n",
    "data['verbs']=''\n",
    "for i in range(len(data)):\n",
    "    a = data['评价分词'].iloc[i]\n",
    "    data['verbs'].iloc[i] = a[1].count('v')\n",
    "pd.to_numeric(data['verbs']).describe()"
   ]
  },
  {
   "cell_type": "markdown",
   "metadata": {},
   "source": [
    "### Entropy"
   ]
  },
  {
   "cell_type": "code",
   "execution_count": 50,
   "metadata": {},
   "outputs": [],
   "source": [
    "# Entropy，使用所有评论构建语料库\n",
    "data2 = data\n",
    "corpus = []\n",
    "for i in range(len(data2)):\n",
    "    #corpus = set.union(corpus,b)\n",
    "    corpus = corpus+data2['Segment'].iloc[i]\n",
    "# 统计语料库中每个元素的数量\n",
    "corpus2 = Counter(corpus)"
   ]
  },
  {
   "cell_type": "code",
   "execution_count": 51,
   "metadata": {},
   "outputs": [],
   "source": [
    "# 计算每个词在语料库中出现的概率\n",
    "data['Entropy_p']=''\n",
    "for i in range(len(data)):\n",
    "    a = data['Segment'].iloc[i]\n",
    "    p = list(range(len(a)))\n",
    "    for j in range(len(a)):\n",
    "        p[j] = corpus2[a[j]]/len(corpus2)\n",
    "    data['Entropy_p'].iloc[i] = p"
   ]
  },
  {
   "cell_type": "code",
   "execution_count": 52,
   "metadata": {},
   "outputs": [],
   "source": [
    "# 计算logp\n",
    "data['Entropy_logp'] = ''\n",
    "for i in range(len(data)):\n",
    "    a = data['Entropy_p'].iloc[i]\n",
    "    data['Entropy_logp'].iloc[i] = np.log(a)\n",
    "# 计算entropy\n",
    "data['Entropy'] = data['Entropy_p']*data['Entropy_logp']\n",
    "data['Entropy'] = -data['Entropy'].apply(sum)"
   ]
  },
  {
   "cell_type": "markdown",
   "metadata": {},
   "source": [
    "## Reliability"
   ]
  },
  {
   "cell_type": "markdown",
   "metadata": {},
   "source": [
    "### Diversity"
   ]
  },
  {
   "cell_type": "code",
   "execution_count": 53,
   "metadata": {},
   "outputs": [],
   "source": [
    "#统计某一评论出现了多少个不同词语（或单字）\n",
    "def freq(item):\n",
    "    c = set(item)\n",
    "    return len(c)\n",
    "data['Diversity'] = data['Segment'].apply(freq)/data['Segment'].apply(len)"
   ]
  },
  {
   "cell_type": "code",
   "execution_count": 54,
   "metadata": {},
   "outputs": [
    {
     "data": {
      "text/plain": [
       "count    1032.000000\n",
       "mean        0.939000\n",
       "std         0.093279\n",
       "min         0.250000\n",
       "25%         0.894737\n",
       "50%         1.000000\n",
       "75%         1.000000\n",
       "max         1.000000\n",
       "Name: Diversity, dtype: float64"
      ]
     },
     "execution_count": 54,
     "metadata": {},
     "output_type": "execute_result"
    }
   ],
   "source": [
    "pd.to_numeric(data['Diversity']).describe()"
   ]
  },
  {
   "cell_type": "markdown",
   "metadata": {},
   "source": [
    "### Polarity"
   ]
  },
  {
   "cell_type": "code",
   "execution_count": 55,
   "metadata": {},
   "outputs": [],
   "source": [
    "# 0~1 -> 从积极到消极\n",
    "data['Polarity'] = ''\n",
    "for i in range(len(data)):\n",
    "    a = data['Segment'].iloc[i]\n",
    "    pos = [i for i in a if i in sentiment_pos]\n",
    "    neg = [i for i in a if i in sentiment_neg]\n",
    "    if len(pos)+len(neg) != 0:\n",
    "        data['Polarity'].iloc[i] = len(neg)/(len(pos)+len(neg))\n",
    "pd.to_numeric(data['Polarity']).describe()\n",
    "# 对于没有包含情感词的评论，默认Polarity的值为0.5（即褒贬词数量相同的情况）\n",
    "data['Polarity'].loc[data['Polarity']==''] = 0.5\n",
    "# data['评价内容'].loc[data['Polarity']=='']"
   ]
  },
  {
   "cell_type": "markdown",
   "metadata": {},
   "source": [
    "## 一些尚未分类的特征"
   ]
  },
  {
   "cell_type": "code",
   "execution_count": 56,
   "metadata": {},
   "outputs": [],
   "source": [
    "# Elapsed days from review published dates to the latest review published date\n",
    "data['时间'] = pd.to_datetime(data['时间'])\n",
    "data['Timeliness'] = data['时间'].max()-data['时间']\n",
    "data['Timeliness'] = data['Timeliness'].map(lambda x:x.days)"
   ]
  },
  {
   "cell_type": "code",
   "execution_count": 57,
   "metadata": {},
   "outputs": [
    {
     "name": "stdout",
     "output_type": "stream",
     "text": [
      "5    762\n",
      "1    101\n",
      "3     72\n",
      "4     59\n",
      "2     38\n",
      "Name: 评价星级, dtype: int64\n"
     ]
    }
   ],
   "source": [
    "# Review rating\n",
    "data['评价星级'].loc[data['评价星级']=='star5']=5\n",
    "data['评价星级'].loc[data['评价星级']=='star4']=4\n",
    "data['评价星级'].loc[data['评价星级']=='star3']=3\n",
    "data['评价星级'].loc[data['评价星级']=='star2']=2\n",
    "data['评价星级'].loc[data['评价星级']=='star1']=1\n",
    "print(data['评价星级'].value_counts())\n",
    "data.rename(columns={'评价星级': 'Rating'}, inplace=True)"
   ]
  },
  {
   "cell_type": "code",
   "execution_count": 58,
   "metadata": {},
   "outputs": [
    {
     "data": {
      "text/plain": [
       "0    700\n",
       "1    332\n",
       "Name: VIP, dtype: int64"
      ]
     },
     "execution_count": 58,
     "metadata": {},
     "output_type": "execute_result"
    }
   ],
   "source": [
    "# 是否为会员，用于判断是否经常购物\n",
    "data['VIP'] = data['级别'].apply(lambda x:1 if x=='PLUS会员' else 0)\n",
    "data['VIP'].value_counts()"
   ]
  },
  {
   "cell_type": "markdown",
   "metadata": {},
   "source": [
    "### Relevancy/Subjectivity"
   ]
  },
  {
   "cell_type": "code",
   "execution_count": 31,
   "metadata": {},
   "outputs": [],
   "source": [
    "# 首先将提前构建的语料库（entropy）根据词频排序，并提取前2000（这个数量有待考究!!!!!!!!!!!!!!!!!!!），并去除停用词和情感词\n",
    "corpus30 = pd.DataFrame(corpus)\n",
    "corpus30 = corpus30.value_counts().rename('counts').reset_index()\n",
    "corpus33 = []\n",
    "for i in range(len(corpus30)):\n",
    "    #corpus = set.union(corpus,b)\n",
    "    corpus33.append(corpus30[0].iloc[i])\n",
    "#corpus33是排序完后的所有词，corpus34为取前n个元素并去停用词和情感词\n",
    "corpus34 = corpus33[0:2000]\n",
    "corpus34 = [i for i in corpus34 if i not in stoplist] #去除停用词\n",
    "corpus34 = [i for i in corpus34 if i not in sentiment] #去除情感词，因为后续有分析情感特征 "
   ]
  },
  {
   "cell_type": "code",
   "execution_count": 32,
   "metadata": {},
   "outputs": [],
   "source": [
    "# 导出词典\n",
    "str = '\\n'\n",
    "f=open(\"corpus.txt\",\"w\",encoding='utf-8')\n",
    "f.write(str.join(corpus34))\n",
    "f.close()"
   ]
  },
  {
   "cell_type": "code",
   "execution_count": 59,
   "metadata": {},
   "outputs": [],
   "source": [
    "corpus34 = get_stopwords(\"corpus.txt\")"
   ]
  },
  {
   "cell_type": "code",
   "execution_count": 60,
   "metadata": {},
   "outputs": [],
   "source": [
    "# 计算相关性的函数（计算评论中有几个主题相关词）\n",
    "def relate(review,sen_list):\n",
    "    set1 = set(review)\n",
    "    iset = set1.intersection(set(sen_list))\n",
    "    return len(iset)"
   ]
  },
  {
   "cell_type": "code",
   "execution_count": 61,
   "metadata": {},
   "outputs": [],
   "source": [
    "# 计算相关性并添加到列‘Relevancy’\n",
    "title = data['页面标题'].value_counts().reset_index()#提取所有商品的标题\n",
    "title['Seg'] = ''\n",
    "Relevancy = []\n",
    "for i in range(len(title)):\n",
    "    a = title['index'].iloc[i]\n",
    "    b = jiebaba(a)\n",
    "    while ' ' in b:\n",
    "        b.remove(' ')\n",
    "    # 根据同一个商品的页面标题添加到语料库，形成该商品专门的词典\n",
    "    c = data.loc[data['页面标题']==title['index'].iloc[i]] #c为同一个商品的所有数据\n",
    "    d = corpus34+b #构建该商品的语料库\n",
    "    for j in range(len(c)):\n",
    "        e = relate(c['Segment'].iloc[j],d)\n",
    "        Relevancy.append(e)\n",
    "data['Relevancy'] = Relevancy\n",
    "data['Relevancy'] = pd.to_numeric(data['Relevancy'])"
   ]
  },
  {
   "cell_type": "markdown",
   "metadata": {},
   "source": [
    "# 导出数据"
   ]
  },
  {
   "cell_type": "code",
   "execution_count": 62,
   "metadata": {},
   "outputs": [
    {
     "data": {
      "text/plain": [
       "会员                0\n",
       "级别              692\n",
       "Rating            0\n",
       "评价内容              0\n",
       "时间                0\n",
       "点赞数               0\n",
       "评论数             100\n",
       "页面标题              0\n",
       "Helpfulness       0\n",
       "Subse             0\n",
       "评价分词              0\n",
       "Segment           0\n",
       "Subse_Count       0\n",
       "Words             0\n",
       "Nsub              0\n",
       "Asub              0\n",
       "adjectives        0\n",
       "adverbs           0\n",
       "verbs             0\n",
       "Entropy_p         0\n",
       "Entropy_logp      0\n",
       "Entropy           0\n",
       "Diversity         0\n",
       "Polarity          0\n",
       "Timeliness        0\n",
       "VIP               0\n",
       "Relevancy         0\n",
       "dtype: int64"
      ]
     },
     "execution_count": 62,
     "metadata": {},
     "output_type": "execute_result"
    }
   ],
   "source": [
    "data.isnull().sum()"
   ]
  },
  {
   "cell_type": "code",
   "execution_count": 63,
   "metadata": {},
   "outputs": [
    {
     "data": {
      "text/plain": [
       "Index(['会员', '级别', 'Rating', '评价内容', '时间', '点赞数', '评论数', '页面标题', 'Helpfulness',\n",
       "       'Subse', '评价分词', 'Segment', 'Subse_Count', 'Words', 'Nsub', 'Asub',\n",
       "       'adjectives', 'adverbs', 'verbs', 'Entropy_p', 'Entropy_logp',\n",
       "       'Entropy', 'Diversity', 'Polarity', 'Timeliness', 'VIP', 'Relevancy'],\n",
       "      dtype='object')"
      ]
     },
     "execution_count": 63,
     "metadata": {},
     "output_type": "execute_result"
    }
   ],
   "source": [
    "data.columns"
   ]
  },
  {
   "cell_type": "code",
   "execution_count": 64,
   "metadata": {},
   "outputs": [],
   "source": [
    "data2 = data.drop(columns=['会员','级别','评价内容','时间','点赞数','评论数','页面标题','Subse','评价分词','Segment','Subse_Count','Entropy_p', 'Entropy_logp'])\n",
    "data2.to_excel('耳机2.xlsx', index=False)\n",
    "#data2.to_csv('耳机.csv', index=False)"
   ]
  },
  {
   "cell_type": "code",
   "execution_count": null,
   "metadata": {},
   "outputs": [],
   "source": []
  }
 ],
 "metadata": {
  "kernelspec": {
   "display_name": "Python 3",
   "language": "python",
   "name": "python3"
  },
  "language_info": {
   "codemirror_mode": {
    "name": "ipython",
    "version": 3
   },
   "file_extension": ".py",
   "mimetype": "text/x-python",
   "name": "python",
   "nbconvert_exporter": "python",
   "pygments_lexer": "ipython3",
   "version": "3.6.8"
  },
  "metadata": {
   "interpreter": {
    "hash": "9178f8153a60bf9c54f3989386f43dd42cf5811dfd22b6eac33b59addae46f26"
   }
  }
 },
 "nbformat": 4,
 "nbformat_minor": 2
}
